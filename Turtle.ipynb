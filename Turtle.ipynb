{
  "nbformat": 4,
  "nbformat_minor": 0,
  "metadata": {
    "colab": {
      "name": "Turtle.ipynb",
      "provenance": [],
      "include_colab_link": true
    },
    "kernelspec": {
      "name": "python3",
      "display_name": "Python 3"
    }
  },
  "cells": [
    {
      "cell_type": "markdown",
      "metadata": {
        "id": "view-in-github",
        "colab_type": "text"
      },
      "source": [
        "<a href=\"https://colab.research.google.com/github/mayrli13/PROJECT_LINK-EXERCISE/blob/main/Turtle.ipynb\" target=\"_parent\"><img src=\"https://colab.research.google.com/assets/colab-badge.svg\" alt=\"Open In Colab\"/></a>"
      ]
    },
    {
      "cell_type": "code",
      "metadata": {
        "id": "2ISLuNPF2LKE",
        "colab": {
          "base_uri": "https://localhost:8080/"
        },
        "outputId": "a6c43c54-f2d3-464f-f1a9-e54e302b7da0"
      },
      "source": [
        "!pip3 install ColabTurtle\n",
        "from ColabTurtle.Turtle import *"
      ],
      "execution_count": 14,
      "outputs": [
        {
          "output_type": "stream",
          "name": "stdout",
          "text": [
            "Requirement already satisfied: ColabTurtle in /usr/local/lib/python3.12/dist-packages (2.1.0)\n"
          ]
        }
      ]
    },
    {
      "cell_type": "markdown",
      "metadata": {
        "id": "uWENJXy0-fkU"
      },
      "source": [
        "<br/><br/>\n",
        "The `initializeTurtle()` function call will create a turtle for us!\n",
        "\n",
        "If you already have a turtle, the `intializeTurtle()` function will erase your turtle's history so that you can start over."
      ]
    },
    {
      "cell_type": "code",
      "metadata": {
        "id": "fZ4V9cYZuYJy",
        "colab": {
          "base_uri": "https://localhost:8080/",
          "height": 1000
        },
        "outputId": "939e8ab1-7217-4681-9233-9df1d34c429c"
      },
      "source": [
        "initializeTurtle()\n",
        "\n",
        "import ColabTurtlePlus.Turtle as t\n",
        "\n",
        "ListBentuk = [\"Circle\", \"Octagon\", \"Square\"]\n",
        "\n",
        "t.bgcolor(\"black\")\n",
        "t.pencolor(\"white\")\n",
        "t.pensize(1)\n",
        "t.speed(1)\n",
        "\n",
        "try:\n",
        "  while True:\n",
        "    bentuk = input(\"Masukkan Bentuk : (Circle, Square, Octagon) atau ketik 'Exit' untuk keluar \").title()\n",
        "\n",
        "    if bentuk == \"Exit\":\n",
        "        t.clear()\n",
        "        print(\"Program Selesai.\")\n",
        "        break\n",
        "\n",
        "    if bentuk in ListBentuk:\n",
        "        t.penup()\n",
        "        t.home()\n",
        "        t.pendown()\n",
        "        t.clear()\n",
        "\n",
        "        if bentuk == \"Circle\":\n",
        "            t.fillcolor(\"yellow\")\n",
        "            t.begin_fill()\n",
        "            t.circle(80)\n",
        "            t.end_fill()\n",
        "        elif bentuk == \"Square\":\n",
        "            t.fillcolor(\"blue\")\n",
        "            t.begin_fill()\n",
        "            for _ in range(4):\n",
        "                t.forward(100)\n",
        "                t.left(90)\n",
        "            t.end_fill()\n",
        "\n",
        "        elif bentuk == \"Octagon\":\n",
        "            t.fillcolor(\"purple\")\n",
        "            t.begin_fill()\n",
        "            for _ in range(8):\n",
        "                t.forward(70)\n",
        "                t.left(45)\n",
        "            t.end_fill()\n",
        "\n",
        "  else:\n",
        "    t.clear()\n",
        "    print(\"Bentuk tidak ditemukan! Program dihentikan.\")\n",
        "    breakpoint\n",
        "\n",
        "  t.done()\n",
        "except t.Terminator:\n",
        "    print(\"\\n Jendela Turtle ditutup. Program berhenti dengan aman.\")\n"
      ],
      "execution_count": null,
      "outputs": [
        {
          "output_type": "display_data",
          "data": {
            "text/plain": [
              "<IPython.core.display.HTML object>"
            ],
            "text/html": [
              "\n",
              "      <svg width=\"800\" height=\"500\">\n",
              "        <rect width=\"100%\" height=\"100%\" fill=\"black\"/>\n",
              "        \n",
              "        <g visibility=visible transform=\"rotate(360,400,250) translate(382, 232)\">\n",
              "<path style=\" stroke:none;fill-rule:evenodd;fill:white;fill-opacity:1;\" d=\"M 18.214844 0.632812 C 16.109375 1.800781 15.011719 4.074219 15.074219 7.132812 L 15.085938 7.652344 L 14.785156 7.496094 C 13.476562 6.824219 11.957031 6.671875 10.40625 7.066406 C 8.46875 7.550781 6.515625 9.15625 4.394531 11.992188 C 3.0625 13.777344 2.679688 14.636719 3.042969 15.027344 L 3.15625 15.152344 L 3.519531 15.152344 C 4.238281 15.152344 4.828125 14.886719 8.1875 13.039062 C 9.386719 12.378906 10.371094 11.839844 10.378906 11.839844 C 10.386719 11.839844 10.355469 11.929688 10.304688 12.035156 C 9.832031 13.09375 9.257812 14.820312 8.96875 16.078125 C 7.914062 20.652344 8.617188 24.53125 11.070312 27.660156 C 11.351562 28.015625 11.363281 27.914062 10.972656 28.382812 C 8.925781 30.84375 7.945312 33.28125 8.238281 35.1875 C 8.289062 35.527344 8.28125 35.523438 8.917969 35.523438 C 10.941406 35.523438 13.074219 34.207031 15.136719 31.6875 C 15.359375 31.417969 15.328125 31.425781 15.5625 31.574219 C 16.292969 32.042969 18.023438 32.964844 18.175781 32.964844 C 18.335938 32.964844 19.941406 32.210938 20.828125 31.71875 C 20.996094 31.625 21.136719 31.554688 21.136719 31.558594 C 21.203125 31.664062 21.898438 32.414062 22.222656 32.730469 C 23.835938 34.300781 25.5625 35.132812 27.582031 35.300781 C 27.90625 35.328125 27.9375 35.308594 28.007812 34.984375 C 28.382812 33.242188 27.625 30.925781 25.863281 28.425781 L 25.542969 27.96875 L 25.699219 27.785156 C 28.945312 23.960938 29.132812 18.699219 26.257812 11.96875 L 26.207031 11.84375 L 27.945312 12.703125 C 31.53125 14.476562 32.316406 14.800781 33.03125 14.800781 C 33.976562 14.800781 33.78125 13.9375 32.472656 12.292969 C 28.519531 7.355469 25.394531 5.925781 21.921875 7.472656 L 21.558594 7.636719 L 21.578125 7.542969 C 21.699219 6.992188 21.761719 5.742188 21.699219 5.164062 C 21.496094 3.296875 20.664062 1.964844 19.003906 0.855469 C 18.480469 0.503906 18.457031 0.5 18.214844 0.632812\"/>\n",
              "</g>\n",
              "      </svg>\n",
              "    "
            ]
          },
          "metadata": {}
        },
        {
          "output_type": "display_data",
          "data": {
            "text/plain": [
              "<IPython.core.display.HTML object>"
            ],
            "text/html": [
              "\n",
              "      <svg width=\"800\" height=\"600\">  \n",
              "        <rect width=\"100%\" height=\"100%\" style=\"fill:black;stroke:;stroke-width:1\"/>\n",
              "        \n",
              "        \n",
              "        <path fill-rule=\"evenodd\" fill-opacity=\"1\" d=\"M 400.0 300.0  A 80 80 0 0 0 400.0 140.0  A 80 80 0 0 0 400.0 300.0 \" stroke-linecap=\"round\" style=\"stroke:white;stroke-width:1\" fill=\"yellow\" />\n",
              "        \n",
              "        \n",
              "        <g id=\"classic\" visibility=\"visible\" transform=\"rotate(-90.0,400.0,300.0) translate(400.0, 300.0)\">\n",
              "<polygon points=\"-5,-4.5 0,-2.5 5,-4.5 0,4.5\" transform=\"skewX(0) scale(1,1)\" style=\"stroke:white;fill:yellow;stroke-width:1\" />\n",
              "</g>\n",
              "      </svg>\n",
              "    "
            ]
          },
          "metadata": {}
        },
        {
          "name": "stdout",
          "output_type": "stream",
          "text": [
            "Masukkan Bentuk : (Circle, Square, Octagon) atau ketik 'Exit' untuk keluar circle\n",
            "Masukkan Bentuk : (Circle, Square, Octagon) atau ketik 'Exit' untuk keluar square\n",
            "Masukkan Bentuk : (Circle, Square, Octagon) atau ketik 'Exit' untuk keluar circle\n"
          ]
        }
      ]
    },
    {
      "cell_type": "markdown",
      "metadata": {
        "id": "nOSrhhuI-v6N"
      },
      "source": [
        "<br/><br/>\n",
        "Next, we're going to learn about *for loops*. For loops are super important in computer science. They tell the computer to repeat something *for* a certain number of times.\n",
        "\n",
        "Below is an example for loop. What do you think it does? Run the cell to find out! You can change `10` or `hi` if you want (but if you change `hi` make sure that you keep the quotation marks around whatever you type instead!).\n"
      ]
    },
    {
      "cell_type": "code",
      "metadata": {
        "id": "K3aMDAzXAAjV"
      },
      "source": [
        "for i in range(10):\n",
        "  print(\"hi\")"
      ],
      "execution_count": null,
      "outputs": []
    },
    {
      "cell_type": "markdown",
      "metadata": {
        "id": "QFdlSukoAE7l"
      },
      "source": [
        "<br/><br/>\n",
        "Now that we know about for loops, we're going to see how to use a for loop to draw a square with our turtle.\n",
        "\n",
        "What shape do you think this for loop will draw? Can you change the numbers to draw a different shape?"
      ]
    },
    {
      "cell_type": "code",
      "metadata": {
        "id": "ssD7GteDVvTO"
      },
      "source": [
        "side_length = 100\n",
        "angle = 360/4\n",
        "\n",
        "for i in range(4):\n",
        "  forward(side_length)\n",
        "  right(angle)"
      ],
      "execution_count": null,
      "outputs": []
    },
    {
      "cell_type": "markdown",
      "metadata": {
        "id": "y3V3jYm8ATjr"
      },
      "source": [
        "<br/><br/>\n",
        "This is *almost* the same for loop that we saw above. Now we have this new line that says `num_sides = 0`. Change the `num_sides` variable from `0` to whatever number of sides you want your shape to have.\n",
        "\n",
        "Can you change the code so that it uses the `num_sides` variable to draw your shape?"
      ]
    },
    {
      "cell_type": "code",
      "metadata": {
        "id": "7D52X8JNAt6c"
      },
      "source": [
        "side_length = 100\n",
        "angle = 360/4\n",
        "num_sides = 0\n",
        "\n",
        "for i in range(4):\n",
        "  forward(side_length)\n",
        "  right(angle)"
      ],
      "execution_count": null,
      "outputs": []
    }
  ]
}
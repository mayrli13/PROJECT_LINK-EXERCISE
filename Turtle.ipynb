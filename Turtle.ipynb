{
  "nbformat": 4,
  "nbformat_minor": 0,
  "metadata": {
    "colab": {
      "name": "Turtle.ipynb",
      "provenance": [],
      "include_colab_link": true
    },
    "kernelspec": {
      "name": "python3",
      "display_name": "Python 3"
    }
  },
  "cells": [
    {
      "cell_type": "markdown",
      "metadata": {
        "id": "view-in-github",
        "colab_type": "text"
      },
      "source": [
        "<a href=\"https://colab.research.google.com/github/mayrli13/PROJECT_LINK-EXERCISE/blob/main/Turtle.ipynb\" target=\"_parent\"><img src=\"https://colab.research.google.com/assets/colab-badge.svg\" alt=\"Open In Colab\"/></a>"
      ]
    },
    {
      "cell_type": "code",
      "metadata": {
        "id": "2ISLuNPF2LKE",
        "outputId": "ff4770c2-ac9e-4b10-da83-525c652301b4",
        "colab": {
          "base_uri": "https://localhost:8080/"
        }
      },
      "source": [
        "!pip3 install ColabTurtlePlus\n",
        "from ColabTurtlePlus.Turtle import *"
      ],
      "execution_count": 6,
      "outputs": [
        {
          "output_type": "stream",
          "name": "stdout",
          "text": [
            "Collecting ColabTurtlePlus\n",
            "  Downloading ColabTurtlePlus-2.0.1-py3-none-any.whl.metadata (10 kB)\n",
            "Downloading ColabTurtlePlus-2.0.1-py3-none-any.whl (31 kB)\n",
            "Installing collected packages: ColabTurtlePlus\n",
            "Successfully installed ColabTurtlePlus-2.0.1\n",
            "Put clearscreen() as the first line in a cell (after the import command) to re-run turtle commands in the cell\n"
          ]
        }
      ]
    },
    {
      "cell_type": "markdown",
      "metadata": {
        "id": "uWENJXy0-fkU"
      },
      "source": [
        "<br/><br/>\n",
        "The `initializeTurtle()` function call will create a turtle for us!\n",
        "\n",
        "If you already have a turtle, the `intializeTurtle()` function will erase your turtle's history so that you can start over."
      ]
    },
    {
      "cell_type": "code",
      "metadata": {
        "id": "fZ4V9cYZuYJy",
        "colab": {
          "base_uri": "https://localhost:8080/",
          "height": 693
        },
        "outputId": "a3648a19-3fd6-4ed6-fe56-545f4fe9c096"
      },
      "source": [
        "initializeTurtle()\n",
        "\n",
        "import ColabTurtlePlus.Turtle as t\n",
        "\n",
        "ListBentuk = [\"Circle\", \"Octagon\", \"Square\"]\n",
        "\n",
        "t.bgcolor(\"black\")\n",
        "t.pencolor(\"white\")\n",
        "t.pensize(1)\n",
        "t.speed(1)\n",
        "\n",
        "try:\n",
        "  while True:\n",
        "    bentuk = input(\"Masukkan Bentuk : (Circle, Square, Octagon) atau ketik 'Exit' untuk keluar \").title()\n",
        "\n",
        "    if bentuk == \"Exit\":\n",
        "        t.clear()\n",
        "        print(\"Program Selesai.\")\n",
        "        break\n",
        "\n",
        "    if bentuk in ListBentuk:\n",
        "        t.penup()\n",
        "        t.home()\n",
        "        t.pendown()\n",
        "        t.clear()\n",
        "\n",
        "        if bentuk == \"Circle\":\n",
        "            t.fillcolor(\"yellow\")\n",
        "            t.begin_fill()\n",
        "            t.circle(80)\n",
        "            t.endfill()\n",
        "        elif bentuk == \"Square\":\n",
        "            t.fillcolor(\"blue\")\n",
        "            t.begin_fill()\n",
        "            for _ in range(4):\n",
        "                t.forward(100)\n",
        "                t.left(90)\n",
        "            t.end_fill()\n",
        "\n",
        "        elif bentuk == \"Octagon\":\n",
        "            t.fillcolor(\"purple\")\n",
        "            t.begin_fill()\n",
        "            for _ in range(8):\n",
        "                t.forward(70)\n",
        "                t.left(45)\n",
        "            t.end_fill()\n",
        "\n",
        "  else:\n",
        "    t.clear()\n",
        "    print(\"Bentuk tidak ditemukan! Program dihentikan.\")\n",
        "    breakpoint\n",
        "\n",
        "  t.done()\n",
        "except t.Terminator:\n",
        "    print(\"\\n Jendela Turtle ditutup. Program berhenti dengan aman.\")\n"
      ],
      "execution_count": 11,
      "outputs": [
        {
          "output_type": "display_data",
          "data": {
            "text/plain": [
              "<IPython.core.display.HTML object>"
            ],
            "text/html": [
              "\n",
              "      <svg width=\"800\" height=\"600\">  \n",
              "        <rect width=\"100%\" height=\"100%\" style=\"fill:black;stroke:;stroke-width:1\"/>\n",
              "        \n",
              "        \n",
              "        \n",
              "        \n",
              "        \n",
              "        <g id=\"classic\" visibility=\"visible\" transform=\"rotate(-90.0,400.0,300.0) translate(400.0, 300.0)\">\n",
              "<polygon points=\"-5,-4.5 0,-2.5 5,-4.5 0,4.5\" transform=\"skewX(0) scale(1,1)\" style=\"stroke:white;fill:blue;stroke-width:1\" />\n",
              "</g>\n",
              "      </svg>\n",
              "    "
            ]
          },
          "metadata": {}
        },
        {
          "output_type": "stream",
          "name": "stdout",
          "text": [
            "Masukkan Bentuk : (Circle, Square, Octagon) atau ketik 'Exit' untuk keluar square\n",
            "Masukkan Bentuk : (Circle, Square, Octagon) atau ketik 'Exit' untuk keluar exit\n",
            "Program Selesai.\n"
          ]
        }
      ]
    },
    {
      "cell_type": "markdown",
      "metadata": {
        "id": "nOSrhhuI-v6N"
      },
      "source": [
        "<br/><br/>\n",
        "Next, we're going to learn about *for loops*. For loops are super important in computer science. They tell the computer to repeat something *for* a certain number of times.\n",
        "\n",
        "Below is an example for loop. What do you think it does? Run the cell to find out! You can change `10` or `hi` if you want (but if you change `hi` make sure that you keep the quotation marks around whatever you type instead!).\n"
      ]
    },
    {
      "cell_type": "code",
      "metadata": {
        "id": "K3aMDAzXAAjV"
      },
      "source": [
        "for i in range(10):\n",
        "  print(\"hi\")"
      ],
      "execution_count": null,
      "outputs": []
    },
    {
      "cell_type": "markdown",
      "metadata": {
        "id": "QFdlSukoAE7l"
      },
      "source": [
        "<br/><br/>\n",
        "Now that we know about for loops, we're going to see how to use a for loop to draw a square with our turtle.\n",
        "\n",
        "What shape do you think this for loop will draw? Can you change the numbers to draw a different shape?"
      ]
    },
    {
      "cell_type": "code",
      "metadata": {
        "id": "ssD7GteDVvTO"
      },
      "source": [
        "side_length = 100\n",
        "angle = 360/4\n",
        "\n",
        "for i in range(4):\n",
        "  forward(side_length)\n",
        "  right(angle)"
      ],
      "execution_count": null,
      "outputs": []
    },
    {
      "cell_type": "markdown",
      "metadata": {
        "id": "y3V3jYm8ATjr"
      },
      "source": [
        "<br/><br/>\n",
        "This is *almost* the same for loop that we saw above. Now we have this new line that says `num_sides = 0`. Change the `num_sides` variable from `0` to whatever number of sides you want your shape to have.\n",
        "\n",
        "Can you change the code so that it uses the `num_sides` variable to draw your shape?"
      ]
    },
    {
      "cell_type": "code",
      "metadata": {
        "id": "7D52X8JNAt6c"
      },
      "source": [
        "side_length = 100\n",
        "angle = 360/4\n",
        "num_sides = 0\n",
        "\n",
        "for i in range(4):\n",
        "  forward(side_length)\n",
        "  right(angle)"
      ],
      "execution_count": null,
      "outputs": []
    }
  ]
}